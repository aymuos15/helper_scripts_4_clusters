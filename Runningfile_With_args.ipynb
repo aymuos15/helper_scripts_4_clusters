{
 "cells": [
  {
   "cell_type": "markdown",
   "metadata": {},
   "source": [
    "Here, We will be adding 2 numbers"
   ]
  },
  {
   "cell_type": "markdown",
   "metadata": {},
   "source": [
    "# Simplest Way"
   ]
  },
  {
   "cell_type": "code",
   "execution_count": 1,
   "metadata": {},
   "outputs": [
    {
     "name": "stdout",
     "output_type": "stream",
     "text": [
      "2\n"
     ]
    }
   ],
   "source": [
    "a = 1\n",
    "b = 1\n",
    "c = a + b\n",
    "print(c)"
   ]
  },
  {
   "cell_type": "markdown",
   "metadata": {},
   "source": [
    "# Using Self-Defined Functions"
   ]
  },
  {
   "cell_type": "code",
   "execution_count": 2,
   "metadata": {},
   "outputs": [
    {
     "data": {
      "text/plain": [
       "2"
      ]
     },
     "execution_count": 2,
     "metadata": {},
     "output_type": "execute_result"
    }
   ],
   "source": [
    "def add(a, b):\n",
    "  c = a + b\n",
    "  return c\n",
    "\n",
    "#call the function\n",
    "number1 = 1\n",
    "number2 = 1\n",
    "add(number1, number2)"
   ]
  },
  {
   "cell_type": "markdown",
   "metadata": {},
   "source": [
    "In the cluster one needs to submit jobs, so you would want to call functions in seperate script ideally other than the one it is defined in."
   ]
  },
  {
   "cell_type": "code",
   "execution_count": 3,
   "metadata": {},
   "outputs": [
    {
     "name": "stdout",
     "output_type": "stream",
     "text": [
      "Overwriting add.py\n"
     ]
    }
   ],
   "source": [
    "%%writefile add.py \n",
    "\n",
    "#this is a magic command to save a file directly from the cell of a jupyter notebook\n",
    "\n",
    "def add_function(a, b):\n",
    "    c = a + b\n",
    "    return c"
   ]
  },
  {
   "cell_type": "markdown",
   "metadata": {},
   "source": [
    "Now we have to 'import' the function."
   ]
  },
  {
   "cell_type": "code",
   "execution_count": 4,
   "metadata": {},
   "outputs": [
    {
     "data": {
      "text/plain": [
       "2"
      ]
     },
     "execution_count": 4,
     "metadata": {},
     "output_type": "execute_result"
    }
   ],
   "source": [
    "#syntax: from filename import functionname\n",
    "from add import add_function\n",
    "\n",
    "#call the function\n",
    "number1 = 1\n",
    "number2 = 1\n",
    "add_function(number1, number2)"
   ]
  },
  {
   "cell_type": "markdown",
   "metadata": {},
   "source": [
    "# What if you want to run the 'file' times?"
   ]
  },
  {
   "cell_type": "markdown",
   "metadata": {},
   "source": [
    "First, lets save the above code as another file"
   ]
  },
  {
   "cell_type": "code",
   "execution_count": 5,
   "metadata": {},
   "outputs": [
    {
     "name": "stdout",
     "output_type": "stream",
     "text": [
      "Overwriting run_multiple.py\n"
     ]
    }
   ],
   "source": [
    "%%writefile run_multiple.py\n",
    "\n",
    "from add import add_function\n",
    "\n",
    "#call the function\n",
    "number1 = 1\n",
    "number2 = 1\n",
    "print(add_function(number1, number2))"
   ]
  },
  {
   "cell_type": "markdown",
   "metadata": {},
   "source": [
    "to run code in terminal you generally do --------------\n",
    "python filename.py"
   ]
  },
  {
   "cell_type": "code",
   "execution_count": 6,
   "metadata": {},
   "outputs": [
    {
     "name": "stdout",
     "output_type": "stream",
     "text": [
      "Overwriting multiple_runner.py\n"
     ]
    }
   ],
   "source": [
    "%%writefile multiple_runner.py\n",
    "\n",
    "import subprocess #this is a necessary library to run the python file\n",
    "\n",
    "for i in range(5):\n",
    "    subprocess.run(['python', 'run_multiple.py'])"
   ]
  },
  {
   "cell_type": "code",
   "execution_count": 7,
   "metadata": {},
   "outputs": [
    {
     "name": "stdout",
     "output_type": "stream",
     "text": [
      "2\n",
      "2\n",
      "2\n",
      "2\n",
      "2\n"
     ]
    }
   ],
   "source": [
    "!python multiple_runner.py"
   ]
  },
  {
   "cell_type": "markdown",
   "metadata": {},
   "source": [
    "# What if you want to add custom numbers every time?"
   ]
  },
  {
   "cell_type": "code",
   "execution_count": 8,
   "metadata": {},
   "outputs": [
    {
     "name": "stdout",
     "output_type": "stream",
     "text": [
      "Overwriting add_with_arguments.py\n"
     ]
    }
   ],
   "source": [
    "%%writefile add_with_arguments.py\n",
    "\n",
    "import sys\n",
    "import argparse\n",
    "\n",
    "def add_function(a, b):\n",
    "    c = a + b\n",
    "    return c\n",
    "\n",
    "def main():\n",
    "    parser = argparse.ArgumentParser(description='Add two numbers')\n",
    "    parser.add_argument('number1', type=int, help='first number')\n",
    "    parser.add_argument('number2', type=int, help='second number')\n",
    "    args = parser.parse_args()\n",
    "    result = add_function(args.number1, args.number2)\n",
    "    print(result)\n",
    "\n",
    "if __name__ == '__main__':\n",
    "    main()"
   ]
  },
  {
   "cell_type": "markdown",
   "metadata": {},
   "source": [
    "You need to follow the above structure in order call and use the arguments."
   ]
  },
  {
   "cell_type": "code",
   "execution_count": 9,
   "metadata": {},
   "outputs": [
    {
     "name": "stdout",
     "output_type": "stream",
     "text": [
      "2\n"
     ]
    }
   ],
   "source": [
    "!python add_with_arguments.py 1 1"
   ]
  },
  {
   "cell_type": "markdown",
   "metadata": {},
   "source": [
    "# Now run the same file multiple times with custom argumets"
   ]
  },
  {
   "cell_type": "code",
   "execution_count": 10,
   "metadata": {},
   "outputs": [
    {
     "name": "stdout",
     "output_type": "stream",
     "text": [
      "Overwriting multiple_runner_with_arguments.py\n"
     ]
    }
   ],
   "source": [
    "%%writefile multiple_runner_with_arguments.py\n",
    "\n",
    "import subprocess #this is a necessary library to run the python file\n",
    "\n",
    "#first define your arguments\n",
    "''' Assuming we want to add the number with itself '''\n",
    "\n",
    "numbers_to_be_added_with_each_other = [[1, 1], [2, 2], [3, 3], [4, 4], [5, 5]]\n",
    "\n",
    "for numbers in numbers_to_be_added_with_each_other:\n",
    "    subprocess.run(['python', 'add_with_arguments.py', str(numbers[0]), str(numbers[1])])"
   ]
  },
  {
   "cell_type": "markdown",
   "metadata": {},
   "source": [
    "#Now we just need to run that without anything else :)"
   ]
  },
  {
   "cell_type": "code",
   "execution_count": 11,
   "metadata": {},
   "outputs": [
    {
     "name": "stdout",
     "output_type": "stream",
     "text": [
      "2\n",
      "4\n",
      "6\n",
      "8\n",
      "10\n"
     ]
    }
   ],
   "source": [
    "!python multiple_runner_with_arguments.py"
   ]
  }
 ],
 "metadata": {
  "kernelspec": {
   "display_name": "base",
   "language": "python",
   "name": "python3"
  },
  "language_info": {
   "codemirror_mode": {
    "name": "ipython",
    "version": 3
   },
   "file_extension": ".py",
   "mimetype": "text/x-python",
   "name": "python",
   "nbconvert_exporter": "python",
   "pygments_lexer": "ipython3",
   "version": "3.11.5"
  }
 },
 "nbformat": 4,
 "nbformat_minor": 2
}
